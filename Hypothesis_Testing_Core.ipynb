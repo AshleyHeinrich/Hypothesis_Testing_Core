{
 "cells": [
  {
   "cell_type": "markdown",
   "id": "d2f6094a",
   "metadata": {},
   "source": [
    "# Hypothesis_Testing"
   ]
  },
  {
   "cell_type": "markdown",
   "id": "883a7969",
   "metadata": {},
   "source": [
    "## Import and Load"
   ]
  },
  {
   "cell_type": "code",
   "execution_count": 1,
   "id": "12eb1dcb",
   "metadata": {},
   "outputs": [],
   "source": [
    "import pandas as pd\n",
    "import numpy as np\n",
    "import matplotlib.pyplot as plt\n",
    "import seaborn as sns\n",
    "import scipy.stats as stats\n",
    "from statsmodels.stats.multicomp import pairwise_tukeyhsd"
   ]
  },
  {
   "cell_type": "code",
   "execution_count": 2,
   "id": "c4689523",
   "metadata": {},
   "outputs": [
    {
     "name": "stdout",
     "output_type": "stream",
     "text": [
      "<class 'pandas.core.frame.DataFrame'>\n",
      "RangeIndex: 1338 entries, 0 to 1337\n",
      "Data columns (total 7 columns):\n",
      " #   Column    Non-Null Count  Dtype  \n",
      "---  ------    --------------  -----  \n",
      " 0   age       1338 non-null   int64  \n",
      " 1   sex       1338 non-null   object \n",
      " 2   bmi       1338 non-null   float64\n",
      " 3   children  1338 non-null   int64  \n",
      " 4   smoker    1338 non-null   object \n",
      " 5   region    1338 non-null   object \n",
      " 6   charges   1338 non-null   float64\n",
      "dtypes: float64(2), int64(2), object(3)\n",
      "memory usage: 73.3+ KB\n"
     ]
    },
    {
     "data": {
      "text/html": [
       "<div>\n",
       "<style scoped>\n",
       "    .dataframe tbody tr th:only-of-type {\n",
       "        vertical-align: middle;\n",
       "    }\n",
       "\n",
       "    .dataframe tbody tr th {\n",
       "        vertical-align: top;\n",
       "    }\n",
       "\n",
       "    .dataframe thead th {\n",
       "        text-align: right;\n",
       "    }\n",
       "</style>\n",
       "<table border=\"1\" class=\"dataframe\">\n",
       "  <thead>\n",
       "    <tr style=\"text-align: right;\">\n",
       "      <th></th>\n",
       "      <th>age</th>\n",
       "      <th>sex</th>\n",
       "      <th>bmi</th>\n",
       "      <th>children</th>\n",
       "      <th>smoker</th>\n",
       "      <th>region</th>\n",
       "      <th>charges</th>\n",
       "    </tr>\n",
       "  </thead>\n",
       "  <tbody>\n",
       "    <tr>\n",
       "      <th>0</th>\n",
       "      <td>19</td>\n",
       "      <td>female</td>\n",
       "      <td>27.900</td>\n",
       "      <td>0</td>\n",
       "      <td>yes</td>\n",
       "      <td>southwest</td>\n",
       "      <td>16884.92400</td>\n",
       "    </tr>\n",
       "    <tr>\n",
       "      <th>1</th>\n",
       "      <td>18</td>\n",
       "      <td>male</td>\n",
       "      <td>33.770</td>\n",
       "      <td>1</td>\n",
       "      <td>no</td>\n",
       "      <td>southeast</td>\n",
       "      <td>1725.55230</td>\n",
       "    </tr>\n",
       "    <tr>\n",
       "      <th>2</th>\n",
       "      <td>28</td>\n",
       "      <td>male</td>\n",
       "      <td>33.000</td>\n",
       "      <td>3</td>\n",
       "      <td>no</td>\n",
       "      <td>southeast</td>\n",
       "      <td>4449.46200</td>\n",
       "    </tr>\n",
       "    <tr>\n",
       "      <th>3</th>\n",
       "      <td>33</td>\n",
       "      <td>male</td>\n",
       "      <td>22.705</td>\n",
       "      <td>0</td>\n",
       "      <td>no</td>\n",
       "      <td>northwest</td>\n",
       "      <td>21984.47061</td>\n",
       "    </tr>\n",
       "    <tr>\n",
       "      <th>4</th>\n",
       "      <td>32</td>\n",
       "      <td>male</td>\n",
       "      <td>28.880</td>\n",
       "      <td>0</td>\n",
       "      <td>no</td>\n",
       "      <td>northwest</td>\n",
       "      <td>3866.85520</td>\n",
       "    </tr>\n",
       "  </tbody>\n",
       "</table>\n",
       "</div>"
      ],
      "text/plain": [
       "   age     sex     bmi  children smoker     region      charges\n",
       "0   19  female  27.900         0    yes  southwest  16884.92400\n",
       "1   18    male  33.770         1     no  southeast   1725.55230\n",
       "2   28    male  33.000         3     no  southeast   4449.46200\n",
       "3   33    male  22.705         0     no  northwest  21984.47061\n",
       "4   32    male  28.880         0     no  northwest   3866.85520"
      ]
     },
     "execution_count": 2,
     "metadata": {},
     "output_type": "execute_result"
    }
   ],
   "source": [
    "filename = ('Data/insurance - insurance (1).csv')\n",
    "df = pd.read_csv(filename)\n",
    "df.info()\n",
    "df.head()"
   ]
  },
  {
   "cell_type": "markdown",
   "id": "7efd4e98",
   "metadata": {},
   "source": [
    "## Insurance Charges"
   ]
  },
  {
   "cell_type": "markdown",
   "id": "38bf960e",
   "metadata": {},
   "source": [
    "**Question 1:**\n",
    "\n",
    "1. State Null and Alternative Hypothesis\n",
    "**Null:** There is no difference in insurance charges between smokers and non smokers\n",
    "\n",
    "**Alternate:** There is a difference in insurance charges between smokers and nonsmokers. \n",
    "\n",
    "2. Select the correct test: \n",
    "T- test; comparing a numerical feature between two groups. "
   ]
  },
  {
   "cell_type": "code",
   "execution_count": 3,
   "id": "cac5ec1b",
   "metadata": {},
   "outputs": [
    {
     "data": {
      "text/plain": [
       "no     1064\n",
       "yes     274\n",
       "Name: smoker, dtype: int64"
      ]
     },
     "execution_count": 3,
     "metadata": {},
     "output_type": "execute_result"
    }
   ],
   "source": [
    "df['smoker'].value_counts()"
   ]
  },
  {
   "cell_type": "code",
   "execution_count": 4,
   "id": "5e122f31",
   "metadata": {},
   "outputs": [],
   "source": [
    "smoker_charges = df.loc[df['smoker'] == 'yes', 'charges']\n",
    "nsmoker_charges = df.loc[df['smoker'] == 'no', 'charges']\n"
   ]
  },
  {
   "cell_type": "code",
   "execution_count": 5,
   "id": "12be8e52",
   "metadata": {},
   "outputs": [
    {
     "name": "stdout",
     "output_type": "stream",
     "text": [
      " For smokers (n=274): Mean = 32050.23\n",
      " For non smokers (n = 1064): Mean = 8434.27\n"
     ]
    }
   ],
   "source": [
    "## Getting means \n",
    "print(f' For smokers (n={len(smoker_charges)}): Mean = {np.mean(smoker_charges):.2f}')\n",
    "print(f' For non smokers (n = {len(nsmoker_charges)}): Mean = {np.mean(nsmoker_charges):.2f}')"
   ]
  },
  {
   "cell_type": "code",
   "execution_count": 6,
   "id": "ba1fe548",
   "metadata": {},
   "outputs": [
    {
     "data": {
      "image/png": "[encoded data removed]",
      "text/plain": [
       "<Figure size 1000x500 with 2 Axes>"
      ]
     },
     "metadata": {},
     "output_type": "display_data"
    }
   ],
   "source": [
    "habit_palette={'yes':'dodgerblue', \"no\":'salmon'}\n",
    "## Visualizing Sample means\n",
    "fig, (ax,ax_bar) = plt.subplots(figsize= (10,5), ncols=2, \n",
    "                                constrained_layout=True,\n",
    "                                gridspec_kw={'width_ratios':[0.8,0.2]})\n",
    "\n",
    "\n",
    "# Histogram\n",
    "ax = sns.histplot(data=df, x='charges',fill=True,hue='smoker',kde=True,\n",
    "                  stat='density',common_norm=False,ax=ax,\n",
    "                  palette=habit_palette)\n",
    "\n",
    "ax.axvline(np.mean(smoker_charges), ls='--',lw=3, \n",
    "           label=f\"Smokers (Mean={np.mean(smoker_charges):.2f})\",color=habit_palette['yes'])\n",
    "\n",
    "ax.axvline(np.mean(nsmoker_charges), ls='--', lw=3, \n",
    "           label=f\"Non Smokers (Mean={np.mean(nsmoker_charges):.2f})\",color=habit_palette['no'])\n",
    "\n",
    "ax.legend(prop={\"size\":14}, loc='upper right')#bbox_to_anchor=[1,1])\n",
    "## Barplot\n",
    "sns.barplot(data=df, x='smoker',y='charges',ax = ax_bar,palette=habit_palette)\n",
    "fig.suptitle('Comparison of Charges by Smoking Status',fontsize='xx-large');"
   ]
  },
  {
   "cell_type": "code",
   "execution_count": 7,
   "id": "b26d980c",
   "metadata": {},
   "outputs": [
    {
     "data": {
      "text/plain": [
       "0"
      ]
     },
     "execution_count": 7,
     "metadata": {},
     "output_type": "execute_result"
    }
   ],
   "source": [
    "## Testing each group for outliers\n",
    "## None present in smokers\n",
    "zscores_s = stats.zscore(smoker_charges)\n",
    "outliers_s = abs(zscores_s) >3\n",
    "np.sum(outliers_s)"
   ]
  },
  {
   "cell_type": "code",
   "execution_count": 8,
   "id": "3dc54c03",
   "metadata": {},
   "outputs": [
    {
     "data": {
      "text/plain": [
       "24"
      ]
     },
     "execution_count": 8,
     "metadata": {},
     "output_type": "execute_result"
    }
   ],
   "source": [
    "zscores_ns = stats.zscore(nsmoker_charges)\n",
    "outliers_ns = abs(zscores_ns) >3\n",
    "np.sum(outliers_ns)"
   ]
  },
  {
   "cell_type": "code",
   "execution_count": 9,
   "id": "1b4f49f0",
   "metadata": {},
   "outputs": [],
   "source": [
    "## Remove outliers from non smokers group\n",
    "nsmoker_charges = nsmoker_charges[(np.abs(stats.zscore(nsmoker_charges)) <3)]"
   ]
  },
  {
   "cell_type": "code",
   "execution_count": 10,
   "id": "d4b64c03",
   "metadata": {},
   "outputs": [
    {
     "data": {
      "text/plain": [
       "NormaltestResult(statistic=61.03941356533816, pvalue=5.564930630036463e-14)"
      ]
     },
     "execution_count": 10,
     "metadata": {},
     "output_type": "execute_result"
    }
   ],
   "source": [
    "## Testing smokers for normality\n",
    "## Much smaller than 0.05 but the sample is large enough; not normal dist\n",
    "\n",
    "result_smoker = stats.normaltest(smoker_charges)\n",
    "result_smoker"
   ]
  },
  {
   "cell_type": "code",
   "execution_count": 11,
   "id": "e08b4e57",
   "metadata": {},
   "outputs": [
    {
     "data": {
      "text/plain": [
       "NormaltestResult(statistic=163.80367047789198, pvalue=2.6945416315543976e-36)"
      ]
     },
     "execution_count": 11,
     "metadata": {},
     "output_type": "execute_result"
    }
   ],
   "source": [
    "# Testing non smoker for normality\n",
    "## Much smaller p value than 0.05 but sample is large enough; not normal dist\n",
    "result_nsmoker = stats.normaltest(nsmoker_charges)\n",
    "result_nsmoker"
   ]
  },
  {
   "cell_type": "code",
   "execution_count": 12,
   "id": "b6dae6ae",
   "metadata": {},
   "outputs": [
    {
     "data": {
      "text/plain": [
       "LeveneResult(statistic=520.7468821724297, pvalue=2.4247238784347824e-97)"
      ]
     },
     "execution_count": 12,
     "metadata": {},
     "output_type": "execute_result"
    }
   ],
   "source": [
    "## Testing for equal variance\n",
    "#P value is much smaller than 0.05; samples do not come from populations \n",
    "## with equal variance. \n",
    "result = stats.levene(smoker_charges, nsmoker_charges)\n",
    "result\n"
   ]
  },
  {
   "cell_type": "code",
   "execution_count": 13,
   "id": "d6543041",
   "metadata": {},
   "outputs": [
    {
     "data": {
      "text/plain": [
       "Ttest_indResult(statistic=33.732305987092516, pvalue=2.5753226625873578e-104)"
      ]
     },
     "execution_count": 13,
     "metadata": {},
     "output_type": "execute_result"
    }
   ],
   "source": [
    "# Independent t-test with equal_var set to False\n",
    "## Reject the null and accept there is significant difference in charges. Can accept its higher??\n",
    "t_result = stats.ttest_ind(smoker_charges, nsmoker_charges, equal_var = False)\n",
    "t_result"
   ]
  },
  {
   "cell_type": "code",
   "execution_count": 14,
   "id": "ba62ecd1",
   "metadata": {},
   "outputs": [
    {
     "name": "stdout",
     "output_type": "stream",
     "text": [
      " The average charges for smoker group was 32050.23\n",
      " The average charges for the nonsmoker group was 7939.86\n"
     ]
    }
   ],
   "source": [
    "print(f\" The average charges for smoker group was {smoker_charges.mean():.2f}\")\n",
    "print(f\" The average charges for the nonsmoker group was {nsmoker_charges.mean():.2f}\")"
   ]
  },
  {
   "cell_type": "markdown",
   "id": "0e0816e8",
   "metadata": {},
   "source": [
    "**Results:**\n",
    "\n",
    "* P value was below 0.05 for the t test so we can reject the null hypothesis and accept the alternate; that there is a difference in insurance charges between smokers and nonsmokers. \n",
    "* Mean charges were higher for the smoker group so smokers have higher insurance charges than non smokers. "
   ]
  },
  {
   "cell_type": "markdown",
   "id": "af3351ea",
   "metadata": {},
   "source": [
    "## Smoking: Men vs Women"
   ]
  },
  {
   "cell_type": "markdown",
   "id": "61aac55f",
   "metadata": {},
   "source": [
    "**Question 2:**\n",
    "\n",
    "1. State Hypotheses\n",
    "\n",
    "**Null:** There is no difference in smoking rates between males and females\n",
    "\n",
    "**Alternate:** There is a difference in smoking rates between males and females. \n",
    "\n",
    "2. Select test: \n",
    "Chi^2 : Testing group membership across categories"
   ]
  },
  {
   "cell_type": "code",
   "execution_count": 15,
   "id": "ba56a26b",
   "metadata": {},
   "outputs": [
    {
     "data": {
      "image/png": "[encoded data removed]",
      "text/plain": [
       "<Figure size 640x480 with 1 Axes>"
      ]
     },
     "metadata": {},
     "output_type": "display_data"
    }
   ],
   "source": [
    "ax = sns.countplot(data = df, x = 'sex', hue = 'smoker')\n",
    "ax.set_title('Number of Smokers by Sex');"
   ]
  },
  {
   "cell_type": "code",
   "execution_count": 16,
   "id": "b3182311",
   "metadata": {},
   "outputs": [
    {
     "data": {
      "text/html": [
       "<div>\n",
       "<style scoped>\n",
       "    .dataframe tbody tr th:only-of-type {\n",
       "        vertical-align: middle;\n",
       "    }\n",
       "\n",
       "    .dataframe tbody tr th {\n",
       "        vertical-align: top;\n",
       "    }\n",
       "\n",
       "    .dataframe thead th {\n",
       "        text-align: right;\n",
       "    }\n",
       "</style>\n",
       "<table border=\"1\" class=\"dataframe\">\n",
       "  <thead>\n",
       "    <tr style=\"text-align: right;\">\n",
       "      <th>smoker</th>\n",
       "      <th>no</th>\n",
       "      <th>yes</th>\n",
       "    </tr>\n",
       "    <tr>\n",
       "      <th>sex</th>\n",
       "      <th></th>\n",
       "      <th></th>\n",
       "    </tr>\n",
       "  </thead>\n",
       "  <tbody>\n",
       "    <tr>\n",
       "      <th>female</th>\n",
       "      <td>547</td>\n",
       "      <td>115</td>\n",
       "    </tr>\n",
       "    <tr>\n",
       "      <th>male</th>\n",
       "      <td>517</td>\n",
       "      <td>159</td>\n",
       "    </tr>\n",
       "  </tbody>\n",
       "</table>\n",
       "</div>"
      ],
      "text/plain": [
       "smoker   no  yes\n",
       "sex             \n",
       "female  547  115\n",
       "male    517  159"
      ]
     },
     "execution_count": 16,
     "metadata": {},
     "output_type": "execute_result"
    }
   ],
   "source": [
    "table = pd.crosstab(df['sex'], df['smoker'])\n",
    "table"
   ]
  },
  {
   "cell_type": "code",
   "execution_count": 17,
   "id": "c8ac08fc",
   "metadata": {},
   "outputs": [],
   "source": [
    "# Run test and save the output\n",
    "chi_result = stats.chi2_contingency(table)\n",
    "chi2, p, deg_free, expected_vals = chi_result # this labels the results"
   ]
  },
  {
   "cell_type": "code",
   "execution_count": 18,
   "id": "c07bc6a3",
   "metadata": {},
   "outputs": [
    {
     "name": "stdout",
     "output_type": "stream",
     "text": [
      "0.006548143503580696\n"
     ]
    },
    {
     "data": {
      "text/plain": [
       "True"
      ]
     },
     "execution_count": 18,
     "metadata": {},
     "output_type": "execute_result"
    }
   ],
   "source": [
    "# Find p value\n",
    "# P is less than 0.05 so we reject the null hypotheses and accept alternate\n",
    "print(p)\n",
    "p < .05"
   ]
  },
  {
   "cell_type": "markdown",
   "id": "806373b2",
   "metadata": {},
   "source": [
    "**Conclusions:**\n",
    "\n",
    "* Because P is less than .05 we can reject the null hypothesis and accept the alternate that there is a significant different in smoking rates between males and females. \n",
    "* According to the crosstab table, there are more male smokers than women so we can conclude that men are more likely to smoke than women. "
   ]
  },
  {
   "cell_type": "markdown",
   "id": "50ebdd40",
   "metadata": {},
   "source": [
    "## Regions vs Charges"
   ]
  },
  {
   "cell_type": "markdown",
   "id": "23e94af6",
   "metadata": {},
   "source": [
    "**Question 3:**\n",
    "\n",
    "1. State Hypotheses\n",
    "\n",
    "**Null:** There is no statistical difference in charges between the regions\n",
    "\n",
    "**Alternate:** There is a difference in charges based on regions. \n",
    "\n",
    "2. Select test \n",
    "\n",
    "Use ANOVA because there are 4 regions. "
   ]
  },
  {
   "cell_type": "code",
   "execution_count": 19,
   "id": "d6ea8739",
   "metadata": {},
   "outputs": [
    {
     "data": {
      "text/plain": [
       "southeast    364\n",
       "southwest    325\n",
       "northwest    325\n",
       "northeast    324\n",
       "Name: region, dtype: int64"
      ]
     },
     "execution_count": 19,
     "metadata": {},
     "output_type": "execute_result"
    }
   ],
   "source": [
    "# 4 regions with a numerical \n",
    "df['region'].value_counts()"
   ]
  },
  {
   "cell_type": "code",
   "execution_count": 20,
   "id": "c7555715",
   "metadata": {},
   "outputs": [
    {
     "data": {
      "image/png": "[encoded data removed]",
      "text/plain": [
       "<Figure size 640x480 with 1 Axes>"
      ]
     },
     "metadata": {},
     "output_type": "display_data"
    }
   ],
   "source": [
    "sns.barplot(data = df, x = \"region\", y = 'charges');"
   ]
  },
  {
   "cell_type": "code",
   "execution_count": 21,
   "id": "eb0a2bac",
   "metadata": {},
   "outputs": [
    {
     "data": {
      "text/plain": [
       "dict_keys(['southwest', 'southeast', 'northwest', 'northeast'])"
      ]
     },
     "execution_count": 21,
     "metadata": {},
     "output_type": "execute_result"
    }
   ],
   "source": [
    "## Create groups dictionary\n",
    "groups = {}\n",
    "## Loop through all unique categories\n",
    "for i in df['region'].unique():\n",
    "    ## Get series for group and rename\n",
    "    data = df.loc[df['region']==i,'charges'].copy()\n",
    "    \n",
    "    # save into the dictionary\n",
    "    groups[i] = data\n",
    "groups.keys()"
   ]
  },
  {
   "cell_type": "markdown",
   "id": "537dd03c",
   "metadata": {},
   "source": [
    "**Normality**"
   ]
  },
  {
   "cell_type": "code",
   "execution_count": 22,
   "id": "5c4b97dd",
   "metadata": {},
   "outputs": [
    {
     "data": {
      "text/html": [
       "<div>\n",
       "<style scoped>\n",
       "    .dataframe tbody tr th:only-of-type {\n",
       "        vertical-align: middle;\n",
       "    }\n",
       "\n",
       "    .dataframe tbody tr th {\n",
       "        vertical-align: top;\n",
       "    }\n",
       "\n",
       "    .dataframe thead th {\n",
       "        text-align: right;\n",
       "    }\n",
       "</style>\n",
       "<table border=\"1\" class=\"dataframe\">\n",
       "  <thead>\n",
       "    <tr style=\"text-align: right;\">\n",
       "      <th></th>\n",
       "      <th>n</th>\n",
       "      <th>p</th>\n",
       "      <th>test stat</th>\n",
       "    </tr>\n",
       "  </thead>\n",
       "  <tbody>\n",
       "    <tr>\n",
       "      <th>southwest</th>\n",
       "      <td>325.0</td>\n",
       "      <td>6.125298e-23</td>\n",
       "      <td>102.294059</td>\n",
       "    </tr>\n",
       "    <tr>\n",
       "      <th>southeast</th>\n",
       "      <td>364.0</td>\n",
       "      <td>4.953297e-15</td>\n",
       "      <td>65.877446</td>\n",
       "    </tr>\n",
       "    <tr>\n",
       "      <th>northwest</th>\n",
       "      <td>325.0</td>\n",
       "      <td>5.184209e-24</td>\n",
       "      <td>107.232850</td>\n",
       "    </tr>\n",
       "    <tr>\n",
       "      <th>northeast</th>\n",
       "      <td>324.0</td>\n",
       "      <td>1.455431e-19</td>\n",
       "      <td>86.747629</td>\n",
       "    </tr>\n",
       "  </tbody>\n",
       "</table>\n",
       "</div>"
      ],
      "text/plain": [
       "               n             p   test stat\n",
       "southwest  325.0  6.125298e-23  102.294059\n",
       "southeast  364.0  4.953297e-15   65.877446\n",
       "northwest  325.0  5.184209e-24  107.232850\n",
       "northeast  324.0  1.455431e-19   86.747629"
      ]
     },
     "execution_count": 22,
     "metadata": {},
     "output_type": "execute_result"
    }
   ],
   "source": [
    "# Assumption of normality\n",
    "## Running normal test on each group and confirming there are >20 in each group\n",
    "norm_results = {}\n",
    "for i, data in groups.items():\n",
    "    stat, p = stats.normaltest(data)\n",
    "    ## save the p val, test statistic, and the size of the group\n",
    "    norm_results[i] = {'n': len(data),\n",
    "                             'p':p,\n",
    "                             'test stat':stat,}\n",
    "## convert to a dataframe\n",
    "norm_results_df = pd.DataFrame(norm_results).T\n",
    "norm_results_df"
   ]
  },
  {
   "cell_type": "code",
   "execution_count": 23,
   "id": "294337f6",
   "metadata": {},
   "outputs": [
    {
     "data": {
      "text/html": [
       "<div>\n",
       "<style scoped>\n",
       "    .dataframe tbody tr th:only-of-type {\n",
       "        vertical-align: middle;\n",
       "    }\n",
       "\n",
       "    .dataframe tbody tr th {\n",
       "        vertical-align: top;\n",
       "    }\n",
       "\n",
       "    .dataframe thead th {\n",
       "        text-align: right;\n",
       "    }\n",
       "</style>\n",
       "<table border=\"1\" class=\"dataframe\">\n",
       "  <thead>\n",
       "    <tr style=\"text-align: right;\">\n",
       "      <th></th>\n",
       "      <th>n</th>\n",
       "      <th>p</th>\n",
       "      <th>test stat</th>\n",
       "      <th>sig</th>\n",
       "    </tr>\n",
       "  </thead>\n",
       "  <tbody>\n",
       "    <tr>\n",
       "      <th>southwest</th>\n",
       "      <td>325.0</td>\n",
       "      <td>6.125298e-23</td>\n",
       "      <td>102.294059</td>\n",
       "      <td>True</td>\n",
       "    </tr>\n",
       "    <tr>\n",
       "      <th>southeast</th>\n",
       "      <td>364.0</td>\n",
       "      <td>4.953297e-15</td>\n",
       "      <td>65.877446</td>\n",
       "      <td>True</td>\n",
       "    </tr>\n",
       "    <tr>\n",
       "      <th>northwest</th>\n",
       "      <td>325.0</td>\n",
       "      <td>5.184209e-24</td>\n",
       "      <td>107.232850</td>\n",
       "      <td>True</td>\n",
       "    </tr>\n",
       "    <tr>\n",
       "      <th>northeast</th>\n",
       "      <td>324.0</td>\n",
       "      <td>1.455431e-19</td>\n",
       "      <td>86.747629</td>\n",
       "      <td>True</td>\n",
       "    </tr>\n",
       "  </tbody>\n",
       "</table>\n",
       "</div>"
      ],
      "text/plain": [
       "               n             p   test stat   sig\n",
       "southwest  325.0  6.125298e-23  102.294059  True\n",
       "southeast  364.0  4.953297e-15   65.877446  True\n",
       "northwest  325.0  5.184209e-24  107.232850  True\n",
       "northeast  324.0  1.455431e-19   86.747629  True"
      ]
     },
     "execution_count": 23,
     "metadata": {},
     "output_type": "execute_result"
    }
   ],
   "source": [
    "### checking sig with pandas \n",
    "## groups do not have normal distribution; all have p sig less than 0.05\n",
    "# Sample size is large enough to continue\n",
    "norm_results_df['sig'] = norm_results_df['p'] < .05 \n",
    "norm_results_df"
   ]
  },
  {
   "cell_type": "markdown",
   "id": "0a36cb1e",
   "metadata": {},
   "source": [
    "**Equal Variance**"
   ]
  },
  {
   "cell_type": "code",
   "execution_count": 24,
   "id": "4e4dbe33",
   "metadata": {},
   "outputs": [
    {
     "data": {
      "text/plain": [
       "LeveneResult(statistic=5.559966758410606, pvalue=0.0008610590250786703)"
      ]
     },
     "execution_count": 24,
     "metadata": {},
     "output_type": "execute_result"
    }
   ],
   "source": [
    "# Testing for equal variance\n",
    "# DID NOT meet assumption of equal variance\n",
    "stats.levene(*groups.values())"
   ]
  },
  {
   "cell_type": "markdown",
   "id": "c05e68d8",
   "metadata": {},
   "source": [
    "**Kruskal Test**"
   ]
  },
  {
   "cell_type": "code",
   "execution_count": 25,
   "id": "9b3e5977",
   "metadata": {},
   "outputs": [
    {
     "data": {
      "text/plain": [
       "KruskalResult(statistic=4.734181215658743, pvalue=0.19232908072121002)"
      ]
     },
     "execution_count": 25,
     "metadata": {},
     "output_type": "execute_result"
    }
   ],
   "source": [
    "kruskal_result = stats.kruskal( *groups.values())\n",
    "kruskal_result"
   ]
  },
  {
   "cell_type": "markdown",
   "id": "e41cc9e8",
   "metadata": {},
   "source": [
    "**Conclusion:**\n",
    "\n",
    "* We cannot reject the null hypothesis as p value was greater than .05. \n",
    "* There is no significant difference in charges between regions. "
   ]
  }
 ],
 "metadata": {
  "kernelspec": {
   "display_name": "Python (dojo-env)",
   "language": "python",
   "name": "dojo-env"
  },
  "language_info": {
   "codemirror_mode": {
    "name": "ipython",
    "version": 3
   },
   "file_extension": ".py",
   "mimetype": "text/x-python",
   "name": "python",
   "nbconvert_exporter": "python",
   "pygments_lexer": "ipython3",
   "version": "3.9.15"
  },
  "toc": {
   "base_numbering": 1,
   "nav_menu": {},
   "number_sections": false,
   "sideBar": true,
   "skip_h1_title": false,
   "title_cell": "Table of Contents",
   "title_sidebar": "Contents",
   "toc_cell": false,
   "toc_position": {},
   "toc_section_display": true,
   "toc_window_display": false
  }
 },
 "nbformat": 4,
 "nbformat_minor": 5
}
